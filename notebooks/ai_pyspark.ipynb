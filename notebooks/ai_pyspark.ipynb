{
 "cells": [
  {
   "cell_type": "code",
   "execution_count": 1,
   "metadata": {},
   "outputs": [],
   "source": [
    "# Import modules from the project structure\n",
    "import src.etl.data_aggregation as da"
   ]
  },
  {
   "cell_type": "code",
   "execution_count": 2,
   "metadata": {},
   "outputs": [
    {
     "name": "stdout",
     "output_type": "stream",
     "text": [
      "def calculate_total_price_by_date(df_products, df_transactions):\n",
      "    # Join the products and transactions DataFrames on Product_ID\n",
      "    df_joined = df_transactions.join(df_products, df_transactions.Product_ID == df_products.Product_ID)\n",
      "    \n",
      "    # Calculate the total price for each transaction\n",
      "    df_total_price = df_joined.withColumn(\"Total_Price\", F.col(\"Quantity\") * F.col(\"Price\"))\n",
      "    \n",
      "    # Group by Transaction_Date and calculate the total values\n",
      "    df_total_by_date = df_total_price.groupBy(\"Transaction_Date\").agg(\n",
      "        F.sum(\"Quantity\").alias(\"Total_Quantity\"),\n",
      "        F.sum(\"Total_Price\").alias(\"Total_Price\"),\n",
      "    )\n",
      "    \n",
      "    return df_total_by_date\n",
      "\n"
     ]
    }
   ],
   "source": [
    "import inspect\n",
    "\n",
    "source_code = inspect.getsource(da.calculate_total_price_by_date)\n",
    "print(source_code)"
   ]
  },
  {
   "cell_type": "code",
   "execution_count": 3,
   "metadata": {},
   "outputs": [],
   "source": [
    "# Prompt template for unit test\n",
    "template_unit = (\n",
    "    \"You are tasked with creating unity tests to pyspark functions.  \"\n",
    "    \"Please follow these instructions carefully: \\n\\n\"        \n",
    "    \"1. **Source code:** This is the source code: {source_code}.\"    \n",
    "    \"2. **Unit test:** Create a set of unit test to validate random scenarios for the provided function.\"\n",
    "    \"3. **Test code:** It should use the unittest library and be ready to run.\"\n",
    "    \"4. **Mocked data:** Define schemas and the data types for the mocked data to avoid pyspark errors when inferring schema.\"\n",
    ")"
   ]
  },
  {
   "cell_type": "code",
   "execution_count": 4,
   "metadata": {},
   "outputs": [
    {
     "name": "stdout",
     "output_type": "stream",
     "text": [
      "def calculate_total_price_by_date(df_products, df_transactions):\n",
      "    # Join the products and transactions DataFrames on Product_ID\n",
      "    df_joined = df_transactions.join(df_products, df_transactions.Product_ID == df_products.Product_ID)\n",
      "    \n",
      "    # Calculate the total price for each transaction\n",
      "    df_total_price = df_joined.withColumn(\"Total_Price\", F.col(\"Quantity\") * F.col(\"Price\"))\n",
      "    \n",
      "    # Group by Transaction_Date and calculate the total values\n",
      "    df_total_by_date = df_total_price.groupBy(\"Transaction_Date\").agg(\n",
      "        F.sum(\"Quantity\").alias(\"Total_Quantity\"),\n",
      "        F.sum(\"Total_Price\").alias(\"Total_Price\"),\n",
      "    )\n",
      "    \n",
      "    return df_total_by_date\n",
      "\n"
     ]
    }
   ],
   "source": [
    "print(source_code)"
   ]
  },
  {
   "cell_type": "code",
   "execution_count": 5,
   "metadata": {},
   "outputs": [],
   "source": [
    "from langchain_ollama import OllamaLLM\n",
    "from langchain_core.prompts import ChatPromptTemplate\n",
    "\n",
    "#modelname = \"qwen2.5\"\n",
    "#modelname = \"codellama\"\n",
    "\n",
    "def ollama_chat_prompt(source_code, template, modelname=\"qwen2.5\"):\n",
    "    model = OllamaLLM(model=modelname)\n",
    "    prompt = ChatPromptTemplate.from_template(template)\n",
    "    chain = prompt | model\n",
    "    return chain.invoke({\"source_code\": source_code})"
   ]
  },
  {
   "cell_type": "code",
   "execution_count": 6,
   "metadata": {},
   "outputs": [],
   "source": [
    "result = ollama_chat_prompt(source_code, template_unit)"
   ]
  },
  {
   "cell_type": "code",
   "execution_count": 7,
   "metadata": {},
   "outputs": [],
   "source": [
    "with open(f\"result_unit_tests.txt\", \"w\") as file:\n",
    "    file.write(result)"
   ]
  },
  {
   "cell_type": "code",
   "execution_count": 8,
   "metadata": {},
   "outputs": [],
   "source": [
    "# Prompt template for data quality\n",
    "template_quality = (\n",
    "    \"You are tasked with creating data quality checks to pyspark functions.  \"\n",
    "    \"Please follow these instructions carefully: \\n\\n\"        \n",
    "    \"1. **Source code:** This is the source code: {source_code}.\"    \n",
    "    \"2. **Data Quality Checks:** Create a set of data quality checks to validate random scenarios for the provided function.\" \n",
    ")"
   ]
  },
  {
   "cell_type": "code",
   "execution_count": 9,
   "metadata": {},
   "outputs": [],
   "source": [
    "result = ollama_chat_prompt(source_code, template_quality)"
   ]
  },
  {
   "cell_type": "code",
   "execution_count": 10,
   "metadata": {},
   "outputs": [],
   "source": [
    "with open(f\"result_quality.txt\", \"w\") as file:\n",
    "    file.write(result)"
   ]
  }
 ],
 "metadata": {
  "kernelspec": {
   "display_name": "Python 3",
   "language": "python",
   "name": "python3"
  },
  "language_info": {
   "codemirror_mode": {
    "name": "ipython",
    "version": 3
   },
   "file_extension": ".py",
   "mimetype": "text/x-python",
   "name": "python",
   "nbconvert_exporter": "python",
   "pygments_lexer": "ipython3",
   "version": "3.9.6"
  }
 },
 "nbformat": 4,
 "nbformat_minor": 2
}
